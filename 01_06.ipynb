{
  "cells": [
    {
      "cell_type": "markdown",
      "metadata": {
        "id": "view-in-github",
        "colab_type": "text"
      },
      "source": [
        "<a href=\"https://colab.research.google.com/github/srijit43/NLP-theory-and-code/blob/main/01_06.ipynb\" target=\"_parent\"><img src=\"https://colab.research.google.com/assets/colab-badge.svg\" alt=\"Open In Colab\"/></a>"
      ]
    },
    {
      "cell_type": "markdown",
      "metadata": {
        "id": "ddAqDabpA9iY"
      },
      "source": [
        "# NLP Basics: Learning how to use regular expressions"
      ]
    },
    {
      "cell_type": "markdown",
      "metadata": {
        "id": "OqGOp355A9ia"
      },
      "source": [
        "### Using regular expressions in Python\n",
        "\n",
        "Python's `re` package is the most commonly used regex resource. More details can be found [here](https://docs.python.org/3/library/re.html)."
      ]
    },
    {
      "cell_type": "code",
      "execution_count": 1,
      "metadata": {
        "collapsed": true,
        "id": "ve70ECMtA9ia"
      },
      "outputs": [],
      "source": [
        "import re\n",
        "\n",
        "re_test = 'This is a made up string to test 2 different regex methods'\n",
        "re_test_messy = 'This      is a made up     string to test 2    different regex methods'\n",
        "re_test_messy1 = 'This-is-a-made/up.string*to>>>>test----2\"\"\"\"\"\"different~regex-methods'"
      ]
    },
    {
      "cell_type": "markdown",
      "metadata": {
        "id": "CUcMA7nHA9ib"
      },
      "source": [
        "### Splitting a sentence into a list of words"
      ]
    },
    {
      "cell_type": "code",
      "execution_count": 2,
      "metadata": {
        "colab": {
          "base_uri": "https://localhost:8080/"
        },
        "id": "OluoDjELA9ib",
        "outputId": "a3c289d3-7bc6-4107-e0ca-21e2554fce69"
      },
      "outputs": [
        {
          "output_type": "execute_result",
          "data": {
            "text/plain": [
              "['This',\n",
              " 'is',\n",
              " 'a',\n",
              " 'made',\n",
              " 'up',\n",
              " 'string',\n",
              " 'to',\n",
              " 'test',\n",
              " '2',\n",
              " 'different',\n",
              " 'regex',\n",
              " 'methods']"
            ]
          },
          "metadata": {},
          "execution_count": 2
        }
      ],
      "source": [
        "re.split('\\s',re_test)  #tells python to look for the single white space to split"
      ]
    },
    {
      "cell_type": "code",
      "source": [
        "re.split('\\s',re_test_messy)"
      ],
      "metadata": {
        "colab": {
          "base_uri": "https://localhost:8080/"
        },
        "id": "Pw8fBrFDBk1J",
        "outputId": "3fb8b28c-a581-419c-f31f-e0057eea8d9b"
      },
      "execution_count": 3,
      "outputs": [
        {
          "output_type": "execute_result",
          "data": {
            "text/plain": [
              "['This',\n",
              " '',\n",
              " '',\n",
              " '',\n",
              " '',\n",
              " '',\n",
              " 'is',\n",
              " 'a',\n",
              " 'made',\n",
              " 'up',\n",
              " '',\n",
              " '',\n",
              " '',\n",
              " '',\n",
              " 'string',\n",
              " 'to',\n",
              " 'test',\n",
              " '2',\n",
              " '',\n",
              " '',\n",
              " '',\n",
              " 'different',\n",
              " 'regex',\n",
              " 'methods']"
            ]
          },
          "metadata": {},
          "execution_count": 3
        }
      ]
    },
    {
      "cell_type": "markdown",
      "source": [
        "'\\s' or '\\s+' does not work for complex text, lets see what we can use for a better look"
      ],
      "metadata": {
        "id": "5q4-yqx5EeIB"
      }
    },
    {
      "cell_type": "code",
      "source": [
        "re.split('\\W+',re_test_messy1) #looks for words"
      ],
      "metadata": {
        "colab": {
          "base_uri": "https://localhost:8080/"
        },
        "id": "XhD6vTRWEl1x",
        "outputId": "475f99ec-e19d-43d3-940a-d83e06190c5b"
      },
      "execution_count": 4,
      "outputs": [
        {
          "output_type": "execute_result",
          "data": {
            "text/plain": [
              "['This',\n",
              " 'is',\n",
              " 'a',\n",
              " 'made',\n",
              " 'up',\n",
              " 'string',\n",
              " 'to',\n",
              " 'test',\n",
              " '2',\n",
              " 'different',\n",
              " 'regex',\n",
              " 'methods']"
            ]
          },
          "metadata": {},
          "execution_count": 4
        }
      ]
    },
    {
      "cell_type": "code",
      "source": [
        "re.findall('\\S+',re_test) #looks for non white space character"
      ],
      "metadata": {
        "colab": {
          "base_uri": "https://localhost:8080/"
        },
        "id": "yCkzsIgnFH79",
        "outputId": "139e43b7-5f39-4453-a1e0-e2df0506a9d3"
      },
      "execution_count": 6,
      "outputs": [
        {
          "output_type": "execute_result",
          "data": {
            "text/plain": [
              "['This',\n",
              " 'is',\n",
              " 'a',\n",
              " 'made',\n",
              " 'up',\n",
              " 'string',\n",
              " 'to',\n",
              " 'test',\n",
              " '2',\n",
              " 'different',\n",
              " 'regex',\n",
              " 'methods']"
            ]
          },
          "metadata": {},
          "execution_count": 6
        }
      ]
    },
    {
      "cell_type": "code",
      "source": [
        "re.findall('\\S+',re_test_messy)"
      ],
      "metadata": {
        "colab": {
          "base_uri": "https://localhost:8080/"
        },
        "id": "MfyzZQeBFYhH",
        "outputId": "f6ed0d80-0868-4f91-a108-dda3eba753db"
      },
      "execution_count": 7,
      "outputs": [
        {
          "output_type": "execute_result",
          "data": {
            "text/plain": [
              "['This',\n",
              " 'is',\n",
              " 'a',\n",
              " 'made',\n",
              " 'up',\n",
              " 'string',\n",
              " 'to',\n",
              " 'test',\n",
              " '2',\n",
              " 'different',\n",
              " 'regex',\n",
              " 'methods']"
            ]
          },
          "metadata": {},
          "execution_count": 7
        }
      ]
    },
    {
      "cell_type": "code",
      "source": [
        "re.findall('\\S+',re_test_messy1) #fails here S+"
      ],
      "metadata": {
        "colab": {
          "base_uri": "https://localhost:8080/"
        },
        "id": "6VBhbC8SFc2v",
        "outputId": "a82221c0-c919-4462-da84-f1113ac9b019"
      },
      "execution_count": 8,
      "outputs": [
        {
          "output_type": "execute_result",
          "data": {
            "text/plain": [
              "['This-is-a-made/up.string*to>>>>test----2\"\"\"\"\"\"different~regex-methods']"
            ]
          },
          "metadata": {},
          "execution_count": 8
        }
      ]
    },
    {
      "cell_type": "markdown",
      "metadata": {
        "id": "hL1ImV-EA9ib"
      },
      "source": [
        "### Replacing a specific string"
      ]
    },
    {
      "cell_type": "code",
      "execution_count": 10,
      "metadata": {
        "collapsed": true,
        "id": "m2CWuxoYA9ib"
      },
      "outputs": [],
      "source": [
        "pep8_test = 'I try to follow PEP8 guidelines'\n",
        "pep7_test = 'I try to follow PEP7 guidelines'\n",
        "peep8_test = 'I try to follow PEEP8 guidelines'"
      ]
    },
    {
      "cell_type": "code",
      "execution_count": 11,
      "metadata": {
        "colab": {
          "base_uri": "https://localhost:8080/"
        },
        "id": "zUdY73gHA9ic",
        "outputId": "f347023b-b1f5-4edc-9b8e-88592436249f"
      },
      "outputs": [
        {
          "output_type": "execute_result",
          "data": {
            "text/plain": [
              "['try', 'to', 'follow', 'guidelines']"
            ]
          },
          "metadata": {},
          "execution_count": 11
        }
      ],
      "source": [
        "re.findall('[a-z]+',pep8_test) #this shows regex is case sensitive"
      ]
    },
    {
      "cell_type": "code",
      "source": [
        "re.findall('[A-Z]+',pep8_test)"
      ],
      "metadata": {
        "colab": {
          "base_uri": "https://localhost:8080/"
        },
        "id": "A4JuBxmnGzj1",
        "outputId": "c51733cb-5a98-49a8-e790-d5917cc768b1"
      },
      "execution_count": 12,
      "outputs": [
        {
          "output_type": "execute_result",
          "data": {
            "text/plain": [
              "['I', 'PEP']"
            ]
          },
          "metadata": {},
          "execution_count": 12
        }
      ]
    },
    {
      "cell_type": "code",
      "source": [
        "re.findall('[A-Z0-9]+',pep8_test)"
      ],
      "metadata": {
        "colab": {
          "base_uri": "https://localhost:8080/"
        },
        "id": "3t7FhLXvf-3d",
        "outputId": "c23f475b-d020-4c3d-a50b-a638222894c8"
      },
      "execution_count": 13,
      "outputs": [
        {
          "output_type": "execute_result",
          "data": {
            "text/plain": [
              "['I', 'PEP8']"
            ]
          },
          "metadata": {},
          "execution_count": 13
        }
      ]
    },
    {
      "cell_type": "code",
      "source": [
        "re.findall('[A-Z]+[0-9]+',pep8_test)\n",
        "re.findall('[A-Z]+[0-9]+',pep7_test)"
      ],
      "metadata": {
        "colab": {
          "base_uri": "https://localhost:8080/"
        },
        "id": "8Tb0lv3QgNFy",
        "outputId": "c5e52ef6-7cea-40c9-ce52-2db1f879ce04"
      },
      "execution_count": 15,
      "outputs": [
        {
          "output_type": "execute_result",
          "data": {
            "text/plain": [
              "['PEP7']"
            ]
          },
          "metadata": {},
          "execution_count": 15
        }
      ]
    },
    {
      "cell_type": "code",
      "source": [
        "re.sub('[A-Z]+[0-9]+','PEP8 Python style guideline',peep8_test)  #finds PEEP, replaces with the string and what string where it will do the action"
      ],
      "metadata": {
        "colab": {
          "base_uri": "https://localhost:8080/",
          "height": 35
        },
        "id": "vyN-MaJKg2Bb",
        "outputId": "78fa48e5-9d48-41cf-9f5a-fdac39cd2225"
      },
      "execution_count": 16,
      "outputs": [
        {
          "output_type": "execute_result",
          "data": {
            "text/plain": [
              "'I try to follow PEP8 Python style guideline guidelines'"
            ],
            "application/vnd.google.colaboratory.intrinsic+json": {
              "type": "string"
            }
          },
          "metadata": {},
          "execution_count": 16
        }
      ]
    },
    {
      "cell_type": "code",
      "source": [],
      "metadata": {
        "id": "Buw-nCofhLvu"
      },
      "execution_count": null,
      "outputs": []
    },
    {
      "cell_type": "markdown",
      "metadata": {
        "collapsed": true,
        "id": "f1nz-4t5A9ic"
      },
      "source": [
        "### Other examples of regex methods\n",
        "\n",
        "- re.search()\n",
        "- re.match()\n",
        "- re.fullmatch()\n",
        "- re.finditer()\n",
        "- re.escape()"
      ]
    },
    {
      "cell_type": "code",
      "source": [],
      "metadata": {
        "id": "Cvv-ln5ug04d"
      },
      "execution_count": null,
      "outputs": []
    }
  ],
  "metadata": {
    "kernelspec": {
      "display_name": "Python 3",
      "language": "python",
      "name": "python3"
    },
    "language_info": {
      "codemirror_mode": {
        "name": "ipython",
        "version": 3
      },
      "file_extension": ".py",
      "mimetype": "text/x-python",
      "name": "python",
      "nbconvert_exporter": "python",
      "pygments_lexer": "ipython3",
      "version": "3.5.3"
    },
    "colab": {
      "provenance": [],
      "include_colab_link": true
    }
  },
  "nbformat": 4,
  "nbformat_minor": 0
}