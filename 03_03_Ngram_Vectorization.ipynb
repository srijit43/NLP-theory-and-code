{
  "cells": [
    {
      "cell_type": "markdown",
      "metadata": {
        "id": "view-in-github",
        "colab_type": "text"
      },
      "source": [
        "<a href=\"https://colab.research.google.com/github/srijit43/NLP-theory-and-code/blob/main/03_03_Ngram_Vectorization.ipynb\" target=\"_parent\"><img src=\"https://colab.research.google.com/assets/colab-badge.svg\" alt=\"Open In Colab\"/></a>"
      ]
    },
    {
      "cell_type": "markdown",
      "metadata": {
        "id": "IMkI3YgeEheo"
      },
      "source": [
        "# Vectorizing Raw Data: N-Grams"
      ]
    },
    {
      "cell_type": "markdown",
      "metadata": {
        "id": "m3_WqoptEher"
      },
      "source": [
        "### N-Grams\n",
        "\n",
        "Creates a document-term matrix where counts still occupy the cell but instead of the columns representing single terms, they represent all combinations of adjacent words of length n in your text.\n",
        "\n",
        "\"NLP is an interesting topic\"\n",
        "\n",
        "| n | Name      | Tokens                                                         |\n",
        "|---|-----------|----------------------------------------------------------------|\n",
        "| 2 | bigram    | [\"nlp is\", \"is an\", \"an interesting\", \"interesting topic\"]      |\n",
        "| 3 | trigram   | [\"nlp is an\", \"is an interesting\", \"an interesting topic\"] |\n",
        "| 4 | four-gram | [\"nlp is an interesting\", \"is an interesting topic\"]    |"
      ]
    },
    {
      "cell_type": "markdown",
      "metadata": {
        "id": "dYYGSS1oEher"
      },
      "source": [
        "### Read in text"
      ]
    },
    {
      "cell_type": "code",
      "execution_count": 1,
      "metadata": {
        "collapsed": true,
        "colab": {
          "base_uri": "https://localhost:8080/"
        },
        "id": "NNeZxYZ3Eher",
        "outputId": "40845eed-2743-4902-9f25-fce5ca06a561"
      },
      "outputs": [
        {
          "output_type": "stream",
          "name": "stderr",
          "text": [
            "[nltk_data] Downloading package stopwords to /root/nltk_data...\n",
            "[nltk_data]   Unzipping corpora/stopwords.zip.\n"
          ]
        }
      ],
      "source": [
        "import pandas as pd\n",
        "import re\n",
        "import string\n",
        "import nltk\n",
        "pd.set_option('display.max_colwidth', 100)\n",
        "nltk.download('stopwords')\n",
        "\n",
        "stopwords = nltk.corpus.stopwords.words('english')\n",
        "ps = nltk.PorterStemmer()\n",
        "\n",
        "data = pd.read_csv(\"SMSSpamCollection.tsv\", sep='\\t')\n",
        "data.columns = ['label', 'body_text']"
      ]
    },
    {
      "cell_type": "markdown",
      "metadata": {
        "id": "snkN7TUsEhes"
      },
      "source": [
        "### Create function to remove punctuation, tokenize, remove stopwords, and stem"
      ]
    },
    {
      "cell_type": "code",
      "execution_count": 2,
      "metadata": {
        "collapsed": true,
        "colab": {
          "base_uri": "https://localhost:8080/",
          "height": 206
        },
        "id": "r6mqYjqiEhes",
        "outputId": "0f1f597d-f958-4f8b-b8ec-35fcaf5e4055"
      },
      "outputs": [
        {
          "output_type": "execute_result",
          "data": {
            "text/plain": [
              "  label  \\\n",
              "0  spam   \n",
              "1   ham   \n",
              "2   ham   \n",
              "3   ham   \n",
              "4   ham   \n",
              "\n",
              "                                                                                             body_text  \\\n",
              "0  Free entry in 2 a wkly comp to win FA Cup final tkts 21st May 2005. Text FA to 87121 to receive ...   \n",
              "1                                        Nah I don't think he goes to usf, he lives around here though   \n",
              "2                        Even my brother is not like to speak with me. They treat me like aids patent.   \n",
              "3                                                                  I HAVE A DATE ON SUNDAY WITH WILL!!   \n",
              "4  As per your request 'Melle Melle (Oru Minnaminunginte Nurungu Vettam)' has been set as your call...   \n",
              "\n",
              "                                                                                          cleaned_text  \n",
              "0  free entri 2 wkli comp win fa cup final tkt 21st may 2005 text fa 87121 receiv entri questionstd...  \n",
              "1                                                            nah dont think goe usf live around though  \n",
              "2                                                        even brother like speak treat like aid patent  \n",
              "3                                                                                          date sunday  \n",
              "4  per request mell mell oru minnaminungint nurungu vettam set callertun caller press 9 copi friend...  "
            ],
            "text/html": [
              "\n",
              "  <div id=\"df-3cfd3cf6-8b01-4422-92a6-d034c10da283\" class=\"colab-df-container\">\n",
              "    <div>\n",
              "<style scoped>\n",
              "    .dataframe tbody tr th:only-of-type {\n",
              "        vertical-align: middle;\n",
              "    }\n",
              "\n",
              "    .dataframe tbody tr th {\n",
              "        vertical-align: top;\n",
              "    }\n",
              "\n",
              "    .dataframe thead th {\n",
              "        text-align: right;\n",
              "    }\n",
              "</style>\n",
              "<table border=\"1\" class=\"dataframe\">\n",
              "  <thead>\n",
              "    <tr style=\"text-align: right;\">\n",
              "      <th></th>\n",
              "      <th>label</th>\n",
              "      <th>body_text</th>\n",
              "      <th>cleaned_text</th>\n",
              "    </tr>\n",
              "  </thead>\n",
              "  <tbody>\n",
              "    <tr>\n",
              "      <th>0</th>\n",
              "      <td>spam</td>\n",
              "      <td>Free entry in 2 a wkly comp to win FA Cup final tkts 21st May 2005. Text FA to 87121 to receive ...</td>\n",
              "      <td>free entri 2 wkli comp win fa cup final tkt 21st may 2005 text fa 87121 receiv entri questionstd...</td>\n",
              "    </tr>\n",
              "    <tr>\n",
              "      <th>1</th>\n",
              "      <td>ham</td>\n",
              "      <td>Nah I don't think he goes to usf, he lives around here though</td>\n",
              "      <td>nah dont think goe usf live around though</td>\n",
              "    </tr>\n",
              "    <tr>\n",
              "      <th>2</th>\n",
              "      <td>ham</td>\n",
              "      <td>Even my brother is not like to speak with me. They treat me like aids patent.</td>\n",
              "      <td>even brother like speak treat like aid patent</td>\n",
              "    </tr>\n",
              "    <tr>\n",
              "      <th>3</th>\n",
              "      <td>ham</td>\n",
              "      <td>I HAVE A DATE ON SUNDAY WITH WILL!!</td>\n",
              "      <td>date sunday</td>\n",
              "    </tr>\n",
              "    <tr>\n",
              "      <th>4</th>\n",
              "      <td>ham</td>\n",
              "      <td>As per your request 'Melle Melle (Oru Minnaminunginte Nurungu Vettam)' has been set as your call...</td>\n",
              "      <td>per request mell mell oru minnaminungint nurungu vettam set callertun caller press 9 copi friend...</td>\n",
              "    </tr>\n",
              "  </tbody>\n",
              "</table>\n",
              "</div>\n",
              "    <div class=\"colab-df-buttons\">\n",
              "\n",
              "  <div class=\"colab-df-container\">\n",
              "    <button class=\"colab-df-convert\" onclick=\"convertToInteractive('df-3cfd3cf6-8b01-4422-92a6-d034c10da283')\"\n",
              "            title=\"Convert this dataframe to an interactive table.\"\n",
              "            style=\"display:none;\">\n",
              "\n",
              "  <svg xmlns=\"http://www.w3.org/2000/svg\" height=\"24px\" viewBox=\"0 -960 960 960\">\n",
              "    <path d=\"M120-120v-720h720v720H120Zm60-500h600v-160H180v160Zm220 220h160v-160H400v160Zm0 220h160v-160H400v160ZM180-400h160v-160H180v160Zm440 0h160v-160H620v160ZM180-180h160v-160H180v160Zm440 0h160v-160H620v160Z\"/>\n",
              "  </svg>\n",
              "    </button>\n",
              "\n",
              "  <style>\n",
              "    .colab-df-container {\n",
              "      display:flex;\n",
              "      gap: 12px;\n",
              "    }\n",
              "\n",
              "    .colab-df-convert {\n",
              "      background-color: #E8F0FE;\n",
              "      border: none;\n",
              "      border-radius: 50%;\n",
              "      cursor: pointer;\n",
              "      display: none;\n",
              "      fill: #1967D2;\n",
              "      height: 32px;\n",
              "      padding: 0 0 0 0;\n",
              "      width: 32px;\n",
              "    }\n",
              "\n",
              "    .colab-df-convert:hover {\n",
              "      background-color: #E2EBFA;\n",
              "      box-shadow: 0px 1px 2px rgba(60, 64, 67, 0.3), 0px 1px 3px 1px rgba(60, 64, 67, 0.15);\n",
              "      fill: #174EA6;\n",
              "    }\n",
              "\n",
              "    .colab-df-buttons div {\n",
              "      margin-bottom: 4px;\n",
              "    }\n",
              "\n",
              "    [theme=dark] .colab-df-convert {\n",
              "      background-color: #3B4455;\n",
              "      fill: #D2E3FC;\n",
              "    }\n",
              "\n",
              "    [theme=dark] .colab-df-convert:hover {\n",
              "      background-color: #434B5C;\n",
              "      box-shadow: 0px 1px 3px 1px rgba(0, 0, 0, 0.15);\n",
              "      filter: drop-shadow(0px 1px 2px rgba(0, 0, 0, 0.3));\n",
              "      fill: #FFFFFF;\n",
              "    }\n",
              "  </style>\n",
              "\n",
              "    <script>\n",
              "      const buttonEl =\n",
              "        document.querySelector('#df-3cfd3cf6-8b01-4422-92a6-d034c10da283 button.colab-df-convert');\n",
              "      buttonEl.style.display =\n",
              "        google.colab.kernel.accessAllowed ? 'block' : 'none';\n",
              "\n",
              "      async function convertToInteractive(key) {\n",
              "        const element = document.querySelector('#df-3cfd3cf6-8b01-4422-92a6-d034c10da283');\n",
              "        const dataTable =\n",
              "          await google.colab.kernel.invokeFunction('convertToInteractive',\n",
              "                                                    [key], {});\n",
              "        if (!dataTable) return;\n",
              "\n",
              "        const docLinkHtml = 'Like what you see? Visit the ' +\n",
              "          '<a target=\"_blank\" href=https://colab.research.google.com/notebooks/data_table.ipynb>data table notebook</a>'\n",
              "          + ' to learn more about interactive tables.';\n",
              "        element.innerHTML = '';\n",
              "        dataTable['output_type'] = 'display_data';\n",
              "        await google.colab.output.renderOutput(dataTable, element);\n",
              "        const docLink = document.createElement('div');\n",
              "        docLink.innerHTML = docLinkHtml;\n",
              "        element.appendChild(docLink);\n",
              "      }\n",
              "    </script>\n",
              "  </div>\n",
              "\n",
              "\n",
              "<div id=\"df-ed064832-aac9-45d7-ab25-c75e0636a4c8\">\n",
              "  <button class=\"colab-df-quickchart\" onclick=\"quickchart('df-ed064832-aac9-45d7-ab25-c75e0636a4c8')\"\n",
              "            title=\"Suggest charts\"\n",
              "            style=\"display:none;\">\n",
              "\n",
              "<svg xmlns=\"http://www.w3.org/2000/svg\" height=\"24px\"viewBox=\"0 0 24 24\"\n",
              "     width=\"24px\">\n",
              "    <g>\n",
              "        <path d=\"M19 3H5c-1.1 0-2 .9-2 2v14c0 1.1.9 2 2 2h14c1.1 0 2-.9 2-2V5c0-1.1-.9-2-2-2zM9 17H7v-7h2v7zm4 0h-2V7h2v10zm4 0h-2v-4h2v4z\"/>\n",
              "    </g>\n",
              "</svg>\n",
              "  </button>\n",
              "\n",
              "<style>\n",
              "  .colab-df-quickchart {\n",
              "      --bg-color: #E8F0FE;\n",
              "      --fill-color: #1967D2;\n",
              "      --hover-bg-color: #E2EBFA;\n",
              "      --hover-fill-color: #174EA6;\n",
              "      --disabled-fill-color: #AAA;\n",
              "      --disabled-bg-color: #DDD;\n",
              "  }\n",
              "\n",
              "  [theme=dark] .colab-df-quickchart {\n",
              "      --bg-color: #3B4455;\n",
              "      --fill-color: #D2E3FC;\n",
              "      --hover-bg-color: #434B5C;\n",
              "      --hover-fill-color: #FFFFFF;\n",
              "      --disabled-bg-color: #3B4455;\n",
              "      --disabled-fill-color: #666;\n",
              "  }\n",
              "\n",
              "  .colab-df-quickchart {\n",
              "    background-color: var(--bg-color);\n",
              "    border: none;\n",
              "    border-radius: 50%;\n",
              "    cursor: pointer;\n",
              "    display: none;\n",
              "    fill: var(--fill-color);\n",
              "    height: 32px;\n",
              "    padding: 0;\n",
              "    width: 32px;\n",
              "  }\n",
              "\n",
              "  .colab-df-quickchart:hover {\n",
              "    background-color: var(--hover-bg-color);\n",
              "    box-shadow: 0 1px 2px rgba(60, 64, 67, 0.3), 0 1px 3px 1px rgba(60, 64, 67, 0.15);\n",
              "    fill: var(--button-hover-fill-color);\n",
              "  }\n",
              "\n",
              "  .colab-df-quickchart-complete:disabled,\n",
              "  .colab-df-quickchart-complete:disabled:hover {\n",
              "    background-color: var(--disabled-bg-color);\n",
              "    fill: var(--disabled-fill-color);\n",
              "    box-shadow: none;\n",
              "  }\n",
              "\n",
              "  .colab-df-spinner {\n",
              "    border: 2px solid var(--fill-color);\n",
              "    border-color: transparent;\n",
              "    border-bottom-color: var(--fill-color);\n",
              "    animation:\n",
              "      spin 1s steps(1) infinite;\n",
              "  }\n",
              "\n",
              "  @keyframes spin {\n",
              "    0% {\n",
              "      border-color: transparent;\n",
              "      border-bottom-color: var(--fill-color);\n",
              "      border-left-color: var(--fill-color);\n",
              "    }\n",
              "    20% {\n",
              "      border-color: transparent;\n",
              "      border-left-color: var(--fill-color);\n",
              "      border-top-color: var(--fill-color);\n",
              "    }\n",
              "    30% {\n",
              "      border-color: transparent;\n",
              "      border-left-color: var(--fill-color);\n",
              "      border-top-color: var(--fill-color);\n",
              "      border-right-color: var(--fill-color);\n",
              "    }\n",
              "    40% {\n",
              "      border-color: transparent;\n",
              "      border-right-color: var(--fill-color);\n",
              "      border-top-color: var(--fill-color);\n",
              "    }\n",
              "    60% {\n",
              "      border-color: transparent;\n",
              "      border-right-color: var(--fill-color);\n",
              "    }\n",
              "    80% {\n",
              "      border-color: transparent;\n",
              "      border-right-color: var(--fill-color);\n",
              "      border-bottom-color: var(--fill-color);\n",
              "    }\n",
              "    90% {\n",
              "      border-color: transparent;\n",
              "      border-bottom-color: var(--fill-color);\n",
              "    }\n",
              "  }\n",
              "</style>\n",
              "\n",
              "  <script>\n",
              "    async function quickchart(key) {\n",
              "      const quickchartButtonEl =\n",
              "        document.querySelector('#' + key + ' button');\n",
              "      quickchartButtonEl.disabled = true;  // To prevent multiple clicks.\n",
              "      quickchartButtonEl.classList.add('colab-df-spinner');\n",
              "      try {\n",
              "        const charts = await google.colab.kernel.invokeFunction(\n",
              "            'suggestCharts', [key], {});\n",
              "      } catch (error) {\n",
              "        console.error('Error during call to suggestCharts:', error);\n",
              "      }\n",
              "      quickchartButtonEl.classList.remove('colab-df-spinner');\n",
              "      quickchartButtonEl.classList.add('colab-df-quickchart-complete');\n",
              "    }\n",
              "    (() => {\n",
              "      let quickchartButtonEl =\n",
              "        document.querySelector('#df-ed064832-aac9-45d7-ab25-c75e0636a4c8 button');\n",
              "      quickchartButtonEl.style.display =\n",
              "        google.colab.kernel.accessAllowed ? 'block' : 'none';\n",
              "    })();\n",
              "  </script>\n",
              "</div>\n",
              "\n",
              "    </div>\n",
              "  </div>\n"
            ],
            "application/vnd.google.colaboratory.intrinsic+json": {
              "type": "dataframe",
              "variable_name": "data",
              "summary": "{\n  \"name\": \"data\",\n  \"rows\": 5567,\n  \"fields\": [\n    {\n      \"column\": \"label\",\n      \"properties\": {\n        \"dtype\": \"category\",\n        \"num_unique_values\": 2,\n        \"samples\": [\n          \"ham\",\n          \"spam\"\n        ],\n        \"semantic_type\": \"\",\n        \"description\": \"\"\n      }\n    },\n    {\n      \"column\": \"body_text\",\n      \"properties\": {\n        \"dtype\": \"string\",\n        \"num_unique_values\": 5164,\n        \"samples\": [\n          \"Am not working but am up to eyes in philosophy so will text u later when a bit more free for chat...\",\n          \"ALRITE HUNNY!WOT U UP 2 2NITE? DIDNT END UP GOIN DOWN TOWN JUS DA PUB INSTEAD! JUS CHILLIN AT DA MO IN ME BEDROOM!LOVE JEN XXX.\"\n        ],\n        \"semantic_type\": \"\",\n        \"description\": \"\"\n      }\n    },\n    {\n      \"column\": \"cleaned_text\",\n      \"properties\": {\n        \"dtype\": \"string\",\n        \"num_unique_values\": 5123,\n        \"samples\": [\n          \"4 oclock mine bash flat plan\",\n          \"hope alright babe worri might felt bit despar learn job fake wait come back love\"\n        ],\n        \"semantic_type\": \"\",\n        \"description\": \"\"\n      }\n    }\n  ]\n}"
            }
          },
          "metadata": {},
          "execution_count": 2
        }
      ],
      "source": [
        "def clean_text(text):\n",
        "    text = \"\".join([word.lower() for word in text if word not in string.punctuation])  #joining individual characters together to return words to tokenize\n",
        "    tokens = re.split('\\W+', text)\n",
        "    text = \" \".join([ps.stem(word) for word in tokens if word not in stopwords]) #return the sentence joining the words after blank spaces hence the \" \"\n",
        "    return text\n",
        "\n",
        "data['cleaned_text'] = data['body_text'].apply(lambda x: clean_text(x))\n",
        "data.head()"
      ]
    },
    {
      "cell_type": "markdown",
      "metadata": {
        "id": "1efw77gtEhes"
      },
      "source": [
        "### Apply CountVectorizer (w/ N-Grams)"
      ]
    },
    {
      "cell_type": "code",
      "execution_count": 3,
      "metadata": {
        "collapsed": true,
        "colab": {
          "base_uri": "https://localhost:8080/"
        },
        "id": "la2rk2OaEhes",
        "outputId": "5272bf33-6ccc-410c-b36d-19bf7fb60b0b"
      },
      "outputs": [
        {
          "output_type": "stream",
          "name": "stdout",
          "text": [
            "(5567, 31260)\n",
            "['008704050406 sp' '0089mi last' '0121 2025050' ... 'üll submit'\n",
            " 'üll take' '〨ud even']\n"
          ]
        }
      ],
      "source": [
        "from sklearn.feature_extraction.text import CountVectorizer\n",
        "\n",
        "n_gram_vect = CountVectorizer(ngram_range=(2,2))  #we are only looking for bigrams. (1,3) --> indicates uni, bi and tri\n",
        "\n",
        "X_counts = n_gram_vect.fit_transform(data['cleaned_text'])\n",
        "\n",
        "print(X_counts.shape)  #31000 unique combos of 2 words\n",
        "\n",
        "print(n_gram_vect.get_feature_names_out())\n",
        "\n"
      ]
    },
    {
      "cell_type": "markdown",
      "metadata": {
        "id": "njR77tGKEhes"
      },
      "source": [
        "### Apply CountVectorizer (w/ N-Grams) to smaller sample"
      ]
    },
    {
      "cell_type": "code",
      "execution_count": 7,
      "metadata": {
        "collapsed": true,
        "id": "5xondev9Ehes"
      },
      "outputs": [],
      "source": [
        "data_sample = data[0:20]"
      ]
    },
    {
      "cell_type": "markdown",
      "source": [
        "Applying the method on a smaller data sample"
      ],
      "metadata": {
        "id": "avDdvS1qKjJH"
      }
    },
    {
      "cell_type": "code",
      "source": [
        "#Code for smaller data set\n",
        "n_gram_vect_sample = CountVectorizer(ngram_range=(2,2))\n",
        "\n",
        "X_counts_sample = n_gram_vect_sample.fit_transform(data_sample['cleaned_text'])\n",
        "\n",
        "print(X_counts_sample.shape)\n",
        "\n",
        "print(n_gram_vect_sample.get_feature_names_out())\n"
      ],
      "metadata": {
        "colab": {
          "base_uri": "https://localhost:8080/"
        },
        "id": "bzE55UXNKlgw",
        "outputId": "cb60f5fe-0dca-49b2-a624-8ab7b6c0ab15"
      },
      "execution_count": 12,
      "outputs": [
        {
          "output_type": "stream",
          "name": "stdout",
          "text": [
            "(20, 198)\n",
            "['09061701461 claim' '100 20000' '100000 prize' '11 month' '12 hour'\n",
            " '150pday 6day' '16 tsandc' '20000 pound' '2005 text' '21st may'\n",
            " '4txtú120 poboxox36504w45wq' '6day 16' '81010 tc' '87077 eg'\n",
            " '87077 trywal' '87121 receiv' '87575 cost' '900 prize' 'aft finish'\n",
            " 'aid patent' 'alright way' 'anymor tonight' 'appli 08452810075over18'\n",
            " 'appli repli' 'ard smth' 'around though' 'brother like'\n",
            " 'call 09061701461' 'call mobil' 'caller press' 'callertun caller'\n",
            " 'camera free' 'cash 100' 'chanc win' 'claim 81010' 'claim call'\n",
            " 'claim code' 'click httpwap' 'click wap' 'co free' 'code kl341'\n",
            " 'colour mobil' 'comp win' 'copi friend' 'cost 150pday' 'credit click'\n",
            " 'cri enough' 'csh11 send' 'cup final' 'custom select' 'da stock'\n",
            " 'date sunday' 'dont miss' 'dont think' 'dont want' 'eg england'\n",
            " 'eh rememb' 'england 87077' 'england macedonia' 'enough today'\n",
            " 'entitl updat' 'entri questionstd' 'entri wkli' 'even brother' 'fa 87121'\n",
            " 'fa cup' 'feel way' 'ffffffffff alright' 'final tkt' 'fine way'\n",
            " 'finish lunch' 'finish ur' 'first lar' 'free 08002986030' 'free call'\n",
            " 'free entri' 'free membership' 'friend callertun' 'go str' 'go tri'\n",
            " 'goalsteam news' 'goe usf' 'gonna home' 'ha ha' 'ha joke' 'hl info'\n",
            " 'home soon' 'httpwap xxxmobilemovieclubcomnqjkgighjjgcbl' 'im gonna'\n",
            " 'ive cri' 'jackpot txt' 'kim watch' 'kl341 valid' 'lar da'\n",
            " 'latest colour' 'lccltd pobox' 'like aid' 'like speak' 'link next'\n",
            " 'live around' 'lor ard' 'lor finish' 'lunch alreadi' 'lunch go'\n",
            " 'macedonia dont' 'make wet' 'may 2005' 'meet sooner' 'mell mell'\n",
            " 'mell oru' 'membership 100000' 'messag click' 'minnaminungint nurungu'\n",
            " 'miss goalsteam' 'mobil 11' 'mobil camera' 'mobil updat' 'month entitl'\n",
            " 'month ha' 'nah dont' 'name ye' 'nation team' 'naughti make'\n",
            " 'network custom' 'news txt' 'next txt' 'nurungu vettam' 'oh kim'\n",
            " 'oru minnaminungint' 'pay first' 'per request' 'pobox 4403ldnw1a7rw18'\n",
            " 'poboxox36504w45wq 16' 'pound txt' 'press copi' 'prize jackpot'\n",
            " 'prize reward' 'questionstd txt' 'ratetc appli' 'receiv entri'\n",
            " 'receivea 900' 'rememb spell' 'repli hl' 'request mell' 'reward claim'\n",
            " 'scotland 4txtú120' 'select receivea' 'send 87575' 'serious spell'\n",
            " 'set callertun' 'six chanc' 'smth lor' 'soon dont' 'speak treat'\n",
            " 'spell name' 'stock comin' 'str lor' 'stuff anymor' 'talk stuff'\n",
            " 'tc wwwdbuknet' 'team 87077' 'text fa' 'think goe' 'tkt 21st'\n",
            " 'tonight ive' 'treat like' 'tri month' 'trywal scotland' 'tsandc appli'\n",
            " 'txt csh11' 'txt messag' 'txt ratetc' 'txt ur' 'txt word' 'updat co'\n",
            " 'updat latest' 'ur lunch' 'ur nation' 'urgent week' 'use credit'\n",
            " 'usf live' 'valid 12' 'valu network' 'vettam set' 'want talk' 'wap link'\n",
            " 'way feel' 'way gota' 'way meet' 'week free' 'win cash' 'win fa'\n",
            " 'winner valu' 'wkli comp' 'word claim' 'wwwdbuknet lccltd'\n",
            " 'xxxmobilemovieclub use' 'ye naughti']\n"
          ]
        }
      ]
    },
    {
      "cell_type": "markdown",
      "metadata": {
        "id": "FNkdPbCXEhet"
      },
      "source": [
        "### Vectorizers output sparse matrices\n",
        "\n",
        "_**Sparse Matrix**: A matrix in which most entries are 0. In the interest of efficient storage, a sparse matrix will be stored by only storing the locations of the non-zero elements._"
      ]
    },
    {
      "cell_type": "code",
      "execution_count": 15,
      "metadata": {
        "collapsed": true,
        "colab": {
          "base_uri": "https://localhost:8080/"
        },
        "id": "ltqmxXfcEhet",
        "outputId": "64d71e7b-ca94-47c6-d713-462bd30095ad"
      },
      "outputs": [
        {
          "output_type": "stream",
          "name": "stdout",
          "text": [
            "    09061701461 claim  100 20000  100000 prize  11 month  12 hour  \\\n",
            "0                   0          0             0         0        0   \n",
            "1                   0          0             0         0        0   \n",
            "2                   0          0             0         0        0   \n",
            "3                   0          0             0         0        0   \n",
            "4                   0          0             0         0        0   \n",
            "5                   1          0             0         0        1   \n",
            "6                   0          0             0         1        0   \n",
            "7                   0          0             0         0        0   \n",
            "8                   0          1             0         0        0   \n",
            "9                   0          0             1         0        0   \n",
            "10                  0          0             0         0        0   \n",
            "11                  0          0             0         0        0   \n",
            "12                  0          0             0         0        0   \n",
            "13                  0          0             0         0        0   \n",
            "14                  0          0             0         0        0   \n",
            "15                  0          0             0         0        0   \n",
            "16                  0          0             0         0        0   \n",
            "17                  0          0             0         0        0   \n",
            "18                  0          0             0         0        0   \n",
            "19                  0          0             0         0        0   \n",
            "\n",
            "    150pday 6day  16 tsandc  20000 pound  2005 text  21st may  ...  way meet  \\\n",
            "0              0          0            0          1         1  ...         0   \n",
            "1              0          0            0          0         0  ...         0   \n",
            "2              0          0            0          0         0  ...         0   \n",
            "3              0          0            0          0         0  ...         0   \n",
            "4              0          0            0          0         0  ...         0   \n",
            "5              0          0            0          0         0  ...         0   \n",
            "6              0          0            0          0         0  ...         0   \n",
            "7              0          0            0          0         0  ...         0   \n",
            "8              1          1            1          0         0  ...         0   \n",
            "9              0          0            0          0         0  ...         0   \n",
            "10             0          0            0          0         0  ...         0   \n",
            "11             0          0            0          0         0  ...         0   \n",
            "12             0          0            0          0         0  ...         0   \n",
            "13             0          0            0          0         0  ...         0   \n",
            "14             0          0            0          0         0  ...         0   \n",
            "15             0          0            0          0         0  ...         0   \n",
            "16             0          0            0          0         0  ...         0   \n",
            "17             0          0            0          0         0  ...         0   \n",
            "18             0          0            0          0         0  ...         0   \n",
            "19             0          0            0          0         0  ...         1   \n",
            "\n",
            "    week free  win cash  win fa  winner valu  wkli comp  word claim  \\\n",
            "0           0         0       1            0          1           0   \n",
            "1           0         0       0            0          0           0   \n",
            "2           0         0       0            0          0           0   \n",
            "3           0         0       0            0          0           0   \n",
            "4           0         0       0            0          0           0   \n",
            "5           0         0       0            1          0           0   \n",
            "6           0         0       0            0          0           0   \n",
            "7           0         0       0            0          0           0   \n",
            "8           0         1       0            0          0           0   \n",
            "9           1         0       0            0          0           1   \n",
            "10          0         0       0            0          0           0   \n",
            "11          0         0       0            0          0           0   \n",
            "12          0         0       0            0          0           0   \n",
            "13          0         0       0            0          0           0   \n",
            "14          0         0       0            0          0           0   \n",
            "15          0         0       0            0          0           0   \n",
            "16          0         0       0            0          0           0   \n",
            "17          0         0       0            0          0           0   \n",
            "18          0         0       0            0          0           0   \n",
            "19          0         0       0            0          0           0   \n",
            "\n",
            "    wwwdbuknet lccltd  xxxmobilemovieclub use  ye naughti  \n",
            "0                   0                       0           0  \n",
            "1                   0                       0           0  \n",
            "2                   0                       0           0  \n",
            "3                   0                       0           0  \n",
            "4                   0                       0           0  \n",
            "5                   0                       0           0  \n",
            "6                   0                       0           0  \n",
            "7                   0                       0           0  \n",
            "8                   0                       0           0  \n",
            "9                   1                       0           0  \n",
            "10                  0                       1           0  \n",
            "11                  0                       0           0  \n",
            "12                  0                       0           1  \n",
            "13                  0                       0           0  \n",
            "14                  0                       0           0  \n",
            "15                  0                       0           0  \n",
            "16                  0                       0           0  \n",
            "17                  0                       0           0  \n",
            "18                  0                       0           0  \n",
            "19                  0                       0           0  \n",
            "\n",
            "[20 rows x 198 columns]\n"
          ]
        }
      ],
      "source": [
        "X_counts_df = pd.DataFrame(X_counts_sample.toarray())\n",
        "X_counts_df.columns = n_gram_vect_sample.get_feature_names_out()\n",
        "print(X_counts_df)"
      ]
    },
    {
      "cell_type": "code",
      "source": [],
      "metadata": {
        "id": "h2UCSWqrNM0C"
      },
      "execution_count": null,
      "outputs": []
    }
  ],
  "metadata": {
    "kernelspec": {
      "display_name": "Python 3",
      "language": "python",
      "name": "python3"
    },
    "language_info": {
      "codemirror_mode": {
        "name": "ipython",
        "version": 3
      },
      "file_extension": ".py",
      "mimetype": "text/x-python",
      "name": "python",
      "nbconvert_exporter": "python",
      "pygments_lexer": "ipython3",
      "version": "3.5.3"
    },
    "colab": {
      "provenance": [],
      "include_colab_link": true
    }
  },
  "nbformat": 4,
  "nbformat_minor": 0
}